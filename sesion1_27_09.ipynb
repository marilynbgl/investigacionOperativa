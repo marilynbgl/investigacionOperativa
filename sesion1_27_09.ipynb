{
  "nbformat": 4,
  "nbformat_minor": 0,
  "metadata": {
    "colab": {
      "provenance": [],
      "toc_visible": true,
      "authorship_tag": "ABX9TyNAA+iDd1GILGygwRhI8mMf",
      "include_colab_link": true
    },
    "kernelspec": {
      "name": "python3",
      "display_name": "Python 3"
    },
    "language_info": {
      "name": "python"
    }
  },
  "cells": [
    {
      "cell_type": "markdown",
      "metadata": {
        "id": "view-in-github",
        "colab_type": "text"
      },
      "source": [
        "<a href=\"https://colab.research.google.com/github/marilynbgl/investigacionOperativa/blob/main/sesion1_27_09.ipynb\" target=\"_parent\"><img src=\"https://colab.research.google.com/assets/colab-badge.svg\" alt=\"Open In Colab\"/></a>"
      ]
    },
    {
      "cell_type": "markdown",
      "source": [
        "# INTRODUCCION A PROGRAMACION"
      ],
      "metadata": {
        "id": "uxuKmVOsrgCK"
      }
    },
    {
      "cell_type": "markdown",
      "source": [
        "## PRIMERA CLASE"
      ],
      "metadata": {
        "id": "PwahP_YfrvXS"
      }
    },
    {
      "cell_type": "markdown",
      "source": [
        "#TIPO DE DATOS INTEGRADOS(PRIMITIVOS)\n"
      ],
      "metadata": {
        "id": "_RLFCiExsKoS"
      }
    },
    {
      "cell_type": "markdown",
      "source": [
        "Tipo     |  Descripcion\n",
        "---------|-----------------\n",
        "string   | cadena de texto\n",
        "int      | mumero entero\n",
        "float    | numero real\n",
        "bool     | booleano\n",
        "\n",
        "\n",
        "\n",
        "\n",
        "\n",
        "\n",
        "\n"
      ],
      "metadata": {
        "id": "_GK9q_wDsSIa"
      }
    },
    {
      "cell_type": "code",
      "source": [
        "nom=\"alfredoos\"\n",
        "type(nom)"
      ],
      "metadata": {
        "colab": {
          "base_uri": "https://localhost:8080/"
        },
        "id": "9JjEqrnXwphL",
        "outputId": "5abee99c-2a99-484a-d1be-e7c546717776"
      },
      "execution_count": null,
      "outputs": [
        {
          "output_type": "execute_result",
          "data": {
            "text/plain": [
              "str"
            ]
          },
          "metadata": {},
          "execution_count": 5
        }
      ]
    },
    {
      "cell_type": "markdown",
      "source": [
        "## ** operadores aritmeticos y opeardores logicos**\n"
      ],
      "metadata": {
        "id": "Qg3tSkdvxtF5"
      }
    },
    {
      "cell_type": "markdown",
      "source": [
        "DESCRIPCION     | OPERADOR\n",
        "----------------|----------\n",
        "SUMA            |  +\n",
        "DIFERENCIA      |  -\n",
        "POTENCIA        | **\n",
        "MODULO          | %\n",
        "DISYUNCION      | or\n",
        "CONJUNCION      | and\n",
        "NEGACION        | not\n"
      ],
      "metadata": {
        "id": "pSadz9bMx1-y"
      }
    },
    {
      "cell_type": "markdown",
      "source": [
        "# ** INSERCION DE CODIGO LATEX**"
      ],
      "metadata": {
        "id": "SqqRHGJv0A3T"
      }
    },
    {
      "cell_type": "markdown",
      "source": [
        "$\\frac{a}{b+c}$\n",
        "\n",
        "$x+y+\\mathcal{T}$"
      ],
      "metadata": {
        "id": "22T2BcqT0KMa"
      }
    },
    {
      "cell_type": "markdown",
      "source": [
        "## FUNCIONES INTEGRADAS**\n",
        "complex que convierte a numero complejo\n",
        "[ejemplo de link](https://)\n",
        "pow = potencia\n",
        "abs = absoluto\n"
      ],
      "metadata": {
        "id": "-9roB5aB2Nhz"
      }
    },
    {
      "cell_type": "markdown",
      "source": [
        "# FUNCIONES MATEMATICAS DEL MODULO MATH\n"
      ],
      "metadata": {
        "id": "8Mhx2Dx0b4ee"
      }
    },
    {
      "cell_type": "markdown",
      "source": [
        "## ** MODULO MATH**"
      ],
      "metadata": {
        "id": "lmTt4yJscRVm"
      }
    },
    {
      "cell_type": "code",
      "source": [
        "import math #carga el modulo de funciones math"
      ],
      "metadata": {
        "id": "p85uvPd5cYc2"
      },
      "execution_count": null,
      "outputs": []
    },
    {
      "cell_type": "code",
      "source": [
        "math.gcd(8,4) # saca el maximo comun divisor\n",
        "math.exp(1) # funcion exponencial con base e"
      ],
      "metadata": {
        "colab": {
          "base_uri": "https://localhost:8080/"
        },
        "id": "QSdOP7gNcnMe",
        "outputId": "42e80ae3-a8af-43c0-c58f-4205f4cdaa39"
      },
      "execution_count": null,
      "outputs": [
        {
          "output_type": "execute_result",
          "data": {
            "text/plain": [
              "2.718281828459045"
            ]
          },
          "metadata": {},
          "execution_count": 8
        }
      ]
    },
    {
      "cell_type": "markdown",
      "source": [
        "## Estructura de datos en python **\n",
        "\n",
        "https://towardsdatascience.com/which-python-data-structure-should-you-use-fa1edd82946c)\n",
        "<img src=\"https://miro.medium.com/max/1400/1*2JFd94q0vzsEcr-LB-220g.png"
      ],
      "metadata": {
        "id": "tvf6IKjDh8_O"
      }
    },
    {
      "cell_type": "markdown",
      "source": [],
      "metadata": {
        "id": "7FRQjupLiL-1"
      }
    },
    {
      "cell_type": "markdown",
      "source": [
        "##LISTA **\n",
        "Estructura que permte almacenar elementos de diferentes tipos.  "
      ],
      "metadata": {
        "id": "X0bB92yWim7t"
      }
    },
    {
      "cell_type": "code",
      "source": [
        "lista1=[1,\"jorge\", True] # esto es un objeto de la estructra lista\n",
        "print(type(lista1))\n",
        "print(lista1[0])\n",
        "print(lista1[1])\n",
        "print(lista1[2])"
      ],
      "metadata": {
        "colab": {
          "base_uri": "https://localhost:8080/"
        },
        "id": "5NAA6DaLi_el",
        "outputId": "3882dd8d-e302-4828-a08a-5f502dbf1083"
      },
      "execution_count": null,
      "outputs": [
        {
          "output_type": "stream",
          "name": "stdout",
          "text": [
            "<class 'list'>\n",
            "1\n",
            "jorge\n",
            "True\n"
          ]
        }
      ]
    },
    {
      "cell_type": "code",
      "source": [
        "lista2=[255,\"pepe\",lista1] #lista dentro de lista\n",
        "print(lista2[0])\n",
        "print(lista2[1])\n",
        "print(lista2[2][1]) # acccediendo al elemento con indice 1 dele elemento con indice 2 de la lista 2"
      ],
      "metadata": {
        "colab": {
          "base_uri": "https://localhost:8080/"
        },
        "id": "9X9d4tvIjpu9",
        "outputId": "4a7c3598-d2a3-474b-bad5-60fc167826ca"
      },
      "execution_count": null,
      "outputs": [
        {
          "output_type": "stream",
          "name": "stdout",
          "text": [
            "255\n",
            "pepe\n",
            "jorge\n"
          ]
        }
      ]
    },
    {
      "cell_type": "markdown",
      "source": [
        "## **METODOS Y FUNCIONES PARA LISTAS**"
      ],
      "metadata": {
        "id": "4E5mRSkmkoEl"
      }
    },
    {
      "cell_type": "code",
      "source": [
        "#UN METODO ES UNA FUNCIÓN QUE \"PERTENECE\" A UN OBJETO\n",
        "edades=[25,23,12,45,13,23]\n",
        "edades.sort()\n",
        "edades.sort(reverse=True) #invierte a descendente el orden\n",
        "print(edades)\n",
        "edades.append(100)\n",
        "print(edades)\n",
        "edades.sort()\n",
        "print(edades)"
      ],
      "metadata": {
        "colab": {
          "base_uri": "https://localhost:8080/"
        },
        "id": "acTE4HGlkt_d",
        "outputId": "32db9148-9231-4026-e779-8e68f13be2e2"
      },
      "execution_count": null,
      "outputs": [
        {
          "output_type": "stream",
          "name": "stdout",
          "text": [
            "[45, 25, 23, 23, 13, 12]\n",
            "[45, 25, 23, 23, 13, 12, 100]\n",
            "[12, 13, 23, 23, 25, 45, 100]\n"
          ]
        }
      ]
    },
    {
      "cell_type": "code",
      "source": [
        "edades.count(23) # el metodo count devuelve el número de ocurrencias de un objeto dentro de una lista\n"
      ],
      "metadata": {
        "colab": {
          "base_uri": "https://localhost:8080/"
        },
        "id": "x5txpR6Eoskm",
        "outputId": "58783023-4c1e-41ec-9304-165ffc750a2c"
      },
      "execution_count": null,
      "outputs": [
        {
          "output_type": "execute_result",
          "data": {
            "text/plain": [
              "2"
            ]
          },
          "metadata": {},
          "execution_count": 27
        }
      ]
    },
    {
      "cell_type": "code",
      "source": [
        "edades2=[25,23,12,45,13,23]\n",
        "edades3= sorted(edades2) #funcion \"sorted\" incorporada en python\n",
        "print(edades2)\n",
        "print(edades3)"
      ],
      "metadata": {
        "colab": {
          "base_uri": "https://localhost:8080/"
        },
        "id": "Q-gOO_oTqJh2",
        "outputId": "1a63b29a-58b7-4274-b259-833e8f5d7c17"
      },
      "execution_count": null,
      "outputs": [
        {
          "output_type": "stream",
          "name": "stdout",
          "text": [
            "[25, 23, 12, 45, 13, 23]\n",
            "[12, 13, 23, 23, 25, 45]\n"
          ]
        }
      ]
    },
    {
      "cell_type": "code",
      "source": [
        "pesos=[20.5,33.0,12.3,18.7]\n",
        "pesos.sort(reverse=True)\n",
        "print(pesos)"
      ],
      "metadata": {
        "colab": {
          "base_uri": "https://localhost:8080/"
        },
        "id": "zOiGy7pvySS9",
        "outputId": "74a34d5d-ec19-4847-8f21-d2020056c511"
      },
      "execution_count": null,
      "outputs": [
        {
          "output_type": "stream",
          "name": "stdout",
          "text": [
            "[33.0, 20.5, 18.7, 12.3]\n"
          ]
        }
      ]
    },
    {
      "cell_type": "code",
      "source": [
        "poligonos=[\"triangulo\",\"cuadrado\", \"trapecio\"]\n",
        "print(poligonos)\n",
        "poligonos.append(\"rombo\")\n",
        "poligonos.reverse()\n",
        "print(poligonos)"
      ],
      "metadata": {
        "colab": {
          "base_uri": "https://localhost:8080/"
        },
        "id": "N8Ht0WWfz4IN",
        "outputId": "29829f51-8140-4003-e5f8-69f8547d260e"
      },
      "execution_count": null,
      "outputs": [
        {
          "output_type": "stream",
          "name": "stdout",
          "text": [
            "['triangulo', 'cuadrado', 'trapecio']\n",
            "['rombo', 'trapecio', 'cuadrado', 'triangulo']\n"
          ]
        }
      ]
    },
    {
      "cell_type": "code",
      "source": [
        "otros=[\"hexagono\",\"pentagono\"]\n",
        "poligonos.append(otros)\n",
        "poligonos.insert(0,\"rectangulo\")\n",
        "print(poligonos)"
      ],
      "metadata": {
        "colab": {
          "base_uri": "https://localhost:8080/"
        },
        "id": "oquY8-MT1Rg8",
        "outputId": "1b11dcd6-adee-45cd-b426-9cb8536bde45"
      },
      "execution_count": null,
      "outputs": [
        {
          "output_type": "stream",
          "name": "stdout",
          "text": [
            "['rectangulo', 'rombo', 'trapecio', 'cuadrado', 'triangulo', ['hexagono', 'pentagono']]\n"
          ]
        }
      ]
    },
    {
      "cell_type": "code",
      "source": [
        "poligonos.remove(\"cuadrado\")\n",
        "print(poligonos)"
      ],
      "metadata": {
        "colab": {
          "base_uri": "https://localhost:8080/"
        },
        "id": "XeSkqaoQ2W-l",
        "outputId": "12ad051f-1193-4870-9c81-0bcdd3316649"
      },
      "execution_count": null,
      "outputs": [
        {
          "output_type": "stream",
          "name": "stdout",
          "text": [
            "['rectangulo', 'rombo', 'trapecio', 'triangulo', ['hexagono', 'pentagono']]\n"
          ]
        }
      ]
    },
    {
      "cell_type": "code",
      "source": [
        "len(poligonos)"
      ],
      "metadata": {
        "colab": {
          "base_uri": "https://localhost:8080/"
        },
        "id": "8-eqPs962tCl",
        "outputId": "979f4829-a2a1-45a3-f6a5-9ee67ac1deba"
      },
      "execution_count": null,
      "outputs": [
        {
          "output_type": "execute_result",
          "data": {
            "text/plain": [
              "5"
            ]
          },
          "metadata": {},
          "execution_count": 47
        }
      ]
    },
    {
      "cell_type": "code",
      "source": [
        "lista3=[\"a\",\"b\",\"c\"]\n",
        "lista4=[\"d\",\"e\"]\n",
        "concat1= lista3+lista4\n",
        "print(concat1)\n",
        "concat2= lista4+lista3\n",
        "print(concat2)"
      ],
      "metadata": {
        "colab": {
          "base_uri": "https://localhost:8080/"
        },
        "id": "NA0TET9f4enV",
        "outputId": "2dc62d66-bda4-4eb0-b6b9-1b5fd6d3aa22"
      },
      "execution_count": null,
      "outputs": [
        {
          "output_type": "stream",
          "name": "stdout",
          "text": [
            "['a', 'b', 'c', 'd', 'e']\n",
            "['d', 'e', 'a', 'b', 'c']\n"
          ]
        }
      ]
    },
    {
      "cell_type": "code",
      "source": [
        "print(lista3)\n",
        "lista3[0]=123 #modificando la entrada 0 de lista3\n",
        "print(lista3)"
      ],
      "metadata": {
        "colab": {
          "base_uri": "https://localhost:8080/"
        },
        "id": "oNYFXNiP5Brt",
        "outputId": "de131636-3ea8-4cad-a00f-20631b1206b6"
      },
      "execution_count": null,
      "outputs": [
        {
          "output_type": "stream",
          "name": "stdout",
          "text": [
            "['a', 'b', 'c']\n",
            "[123, 'b', 'c']\n"
          ]
        }
      ]
    },
    {
      "cell_type": "markdown",
      "source": [
        "## TUPLA\n",
        "estructura similar a la estructura lista, sin embargo es inmutable"
      ],
      "metadata": {
        "id": "hXDQcLzf6BD9"
      }
    },
    {
      "cell_type": "code",
      "source": [
        "tupla=(\"a\",\"b\",\"c\")\n",
        "print(type(tupla))\n",
        "print(tupla[0])\n",
        "tupla.index(\"c\")"
      ],
      "metadata": {
        "colab": {
          "base_uri": "https://localhost:8080/"
        },
        "id": "m5nTQEOK6MS1",
        "outputId": "3d9ff890-9144-465f-aa48-9ce6715783f5"
      },
      "execution_count": null,
      "outputs": [
        {
          "output_type": "stream",
          "name": "stdout",
          "text": [
            "<class 'tuple'>\n",
            "a\n"
          ]
        },
        {
          "output_type": "execute_result",
          "data": {
            "text/plain": [
              "2"
            ]
          },
          "metadata": {},
          "execution_count": 53
        }
      ]
    },
    {
      "cell_type": "code",
      "source": [
        "print(\"esto\", tupla,\"es una tupla\\n\")\n",
        "tupla.index(\"b\")\n"
      ],
      "metadata": {
        "colab": {
          "base_uri": "https://localhost:8080/"
        },
        "id": "v6F8oNnP6my9",
        "outputId": "daaca1a9-e5d9-47b4-8698-03afecd1382d"
      },
      "execution_count": null,
      "outputs": [
        {
          "output_type": "stream",
          "name": "stdout",
          "text": [
            "esto ('a', 'b', 'c') es una tupla\n",
            "\n"
          ]
        },
        {
          "output_type": "execute_result",
          "data": {
            "text/plain": [
              "1"
            ]
          },
          "metadata": {},
          "execution_count": 55
        }
      ]
    },
    {
      "cell_type": "markdown",
      "source": [
        "## RANGO\n",
        "ESTRUCTURA PARA ALMACENAR SUCESIONES FINITS DE NUMEROS ENTEROS. ES INMUTABLE"
      ],
      "metadata": {
        "id": "NPIe9UUA9eU0"
      }
    },
    {
      "cell_type": "code",
      "source": [
        "sucesion=range(7)\n",
        "print(type(sucesion))\n",
        "print(sucesion)\n",
        "print(sucesion[0])\n",
        "print(sucesion[1])\n",
        "print(sucesion[2])\n",
        "print(\"el objeto de la sucesion tiene\",len(sucesion),\"elementos\")\n",
        "rango=range(3,7)\n",
        "print(rango)\n",
        "print(rango[0])\n",
        "print(rango[1])\n",
        "print(rango[2])\n",
        "print(rango[3])\n",
        "print(rango.stop) #imprime el ultimo numero +1 ene este caso\n",
        "rango=range(3,7,2)# el 2 indica la razon de aumento 2 en 2\n",
        "print(rango)\n",
        "print(rango[0])\n",
        "print(rango[1])\n",
        "#print(rango[2])\n",
        "print(rango.stop) # imprime 7"
      ],
      "metadata": {
        "colab": {
          "base_uri": "https://localhost:8080/"
        },
        "id": "ZyKk7PP49jG9",
        "outputId": "f2d26ca0-73aa-4971-b082-24aa9387d5f4"
      },
      "execution_count": null,
      "outputs": [
        {
          "output_type": "stream",
          "name": "stdout",
          "text": [
            "<class 'range'>\n",
            "range(0, 7)\n",
            "0\n",
            "1\n",
            "2\n",
            "el objeto de la sucesion tiene 7 elementos\n",
            "range(3, 7)\n",
            "3\n",
            "4\n",
            "5\n",
            "6\n",
            "7\n",
            "range(3, 7, 2)\n",
            "3\n",
            "5\n",
            "7\n"
          ]
        }
      ]
    },
    {
      "cell_type": "markdown",
      "source": [
        "## MATRICES\n"
      ],
      "metadata": {
        "id": "qNOLVF0TrEiy"
      }
    },
    {
      "cell_type": "code",
      "source": [
        "import numpy as np\n",
        "m1=np.array([[5,0,1],[3,1,1],[0,1,2]])\n",
        "print(m1)\n",
        "\n",
        "matriz1 = np.array([[1., 2., 3.],[4., 5., 6.],[7.,8.,9.]])\n",
        "print(\"Matriz original:\\n\", matriz1)\n",
        "print(matriz1.dtype) # me da el tipo de datos que tiene mi matriz\n",
        "matriz2= np.array([[1., 2., 3.],[4., 5., 6.]],dtype=np.float64)\n",
        "transpuesta=matriz1.T\n",
        "print(transpuesta)\n",
        "traza=matriz1.trace()#hallando traza por medio de un objeto llamar su metodo\n",
        "traza1=matriz1[0,0]+matriz1[1,1]+matriz1[2,2]\n",
        "traza2=np.trace(matriz1)# de la libreria numpy tiene una funcion y se le debe poner el objeto a evaluar\n",
        "print(traza, traza1, traza2)"
      ],
      "metadata": {
        "colab": {
          "base_uri": "https://localhost:8080/"
        },
        "id": "_ea5Q5VgrKSa",
        "outputId": "86e7a947-2dbe-4e4c-b618-3a9055c484a8"
      },
      "execution_count": null,
      "outputs": [
        {
          "output_type": "stream",
          "name": "stdout",
          "text": [
            "[[5 0 1]\n",
            " [3 1 1]\n",
            " [0 1 2]]\n",
            "Matriz original:\n",
            " [[1. 2. 3.]\n",
            " [4. 5. 6.]\n",
            " [7. 8. 9.]]\n",
            "float64\n",
            "[[1. 4. 7.]\n",
            " [2. 5. 8.]\n",
            " [3. 6. 9.]]\n",
            "15.0 15.0 15.0\n"
          ]
        }
      ]
    },
    {
      "cell_type": "code",
      "source": [
        "sumMatriz= matriz1 + m1\n",
        "print(sumMatriz)\n",
        "matrizProducto=np.dot(matriz1,m1)\n",
        "matrizPro2= np.matmul(matriz1,m1) #mas eficiente computacionalmente en costo\n",
        "matrizPro3= matriz1 @ m1\n",
        "print(\"matrizproducto= \\n\", matrizProducto, \"\\n matrizpro2=\\n\",matrizPro2,\"\\n matrizpro3=\\n\",matrizPro3 )\n",
        "print(matriz1.dot(m1))"
      ],
      "metadata": {
        "colab": {
          "base_uri": "https://localhost:8080/"
        },
        "id": "-nub1afi1RiR",
        "outputId": "35a73e64-ac98-422d-d99c-4abbe4a828ce"
      },
      "execution_count": null,
      "outputs": [
        {
          "output_type": "stream",
          "name": "stdout",
          "text": [
            "[[ 6.  2.  4.]\n",
            " [ 7.  6.  7.]\n",
            " [ 7.  9. 11.]]\n",
            "matrizproducto= \n",
            " [[11.  5.  9.]\n",
            " [35. 11. 21.]\n",
            " [59. 17. 33.]] \n",
            " matrizpro2=\n",
            " [[11.  5.  9.]\n",
            " [35. 11. 21.]\n",
            " [59. 17. 33.]] \n",
            " matrizpro3=\n",
            " [[11.  5.  9.]\n",
            " [35. 11. 21.]\n",
            " [59. 17. 33.]]\n",
            "[[11.  5.  9.]\n",
            " [35. 11. 21.]\n",
            " [59. 17. 33.]]\n"
          ]
        }
      ]
    },
    {
      "cell_type": "code",
      "source": [
        "#ejercicio de la suma de matrices con codigo\n",
        "import numpy as np\n",
        "\n",
        "def suma(m1,m2):\n",
        "    resultado = np.zeros_like(m1)\n",
        "\n",
        "    for i in range(len(m1)):\n",
        "       for j in range(len(m1[0])):\n",
        "        resultado[i][j]=m1[i][j] + m2[i][j]\n",
        "    return resultado\n",
        "\n",
        "# Generar una matriz de nxn con enteros entre 0 y 9 (el 100 no está incluido)\n",
        "a= int(input(\"ingresa el orden de la matriz:\"))\n",
        "matriz1 = np.random.randint(0, 100, size=(a, a))\n",
        "matriz2 = np.random.randint(0,100,size=(a,a))\n",
        "print(\"matriz 1:\\n\", matriz1)\n",
        "print(\"matriz 2:\\n\", matriz2)\n",
        "print(\"\\n suma es:\\n\",suma(matriz1,matriz2))"
      ],
      "metadata": {
        "colab": {
          "base_uri": "https://localhost:8080/"
        },
        "id": "WrAfsYEeArnx",
        "outputId": "6d3c203e-9e70-4296-d69c-75564ffa4b62"
      },
      "execution_count": null,
      "outputs": [
        {
          "output_type": "stream",
          "name": "stdout",
          "text": [
            "ingresa el orden de la matriz:3\n",
            "matriz 1:\n",
            " [[37 41 42]\n",
            " [59 43 74]\n",
            " [11 33 54]]\n",
            "matriz 2:\n",
            " [[67 11  9]\n",
            " [50 63 47]\n",
            " [22 18 73]]\n",
            "\n",
            " suma es:\n",
            " [[104  52  51]\n",
            " [109 106 121]\n",
            " [ 33  51 127]]\n"
          ]
        }
      ]
    },
    {
      "cell_type": "code",
      "source": [
        "#ingresando datos para dos matrices y que tengan la misma dimension\n",
        "import numpy as np\n",
        "\n",
        "def suma(m1,m2):\n",
        "    # Verifica si las matrices tienen las mismas dimensiones\n",
        "    if len(m1) != len(m2) or len(m1[0]) != len(m2[0]):\n",
        "        return \"Error: Las matrices deben tener las mismas dimensiones para sumarse.\"\n",
        "    resultado = np.zeros_like(m1)\n",
        "    for i in range(len(m1)):\n",
        "       for j in range(len(m1[0])):\n",
        "        resultado[i][j]=m1[i][j] + m2[i][j]\n",
        "    return resultado\n",
        "\n",
        "# Generar una matriz de nxn con enteros entre 0 y 9 (el 100 no está incluido)\n",
        "a= int(input(\"ingresa el numero de filas para matriz1:\"))\n",
        "b= int(input(\"ingresa el numero de columnas para matriz 1 :\"))\n",
        "c= int(input(\"ingresa el numero de filas para matriz 2:\"))\n",
        "d= int(input(\"ingresa el numero de columnas para matriz 2:\"))\n",
        "matriz1 = np.random.randint(0, 100, size=(a, b))\n",
        "matriz2 = np.random.randint(0,100,size=(c,d))\n",
        "#f= len(matriz1) #numero de filas de la matriz\n",
        "#c= len(matriz1[0]) #numero de columnas de la matriz\n",
        "#print(\"numero de filas:\",f )\n",
        "#print(\"numero de columnas:\", c)\n",
        "print(\"matriz 1:\\n\", matriz1)\n",
        "#print(\"\\n\")\n",
        "print(\"matriz 2:\\n\", matriz2)\n",
        "print(\"\\n suma es:\\n\",suma(matriz1,matriz2))"
      ],
      "metadata": {
        "id": "tXarWbcPHoxB"
      },
      "execution_count": null,
      "outputs": []
    },
    {
      "cell_type": "code",
      "source": [
        "vect2=np.linspace(2,6,7)\n",
        "print(vect2)\n",
        "\n",
        "mat2=np.random.rand(3,3)# llena matriz de datoas aleatorios\n",
        "print(mat2)\n",
        "\n",
        "mat3=np.empty((3,3),dtype=np.float32) #una matriz vacia con orden 3 de tipo de dato float32\n",
        "print(mat3)\n",
        "mat3[0][0]= np.pi\n",
        "print(mat3)\n"
      ],
      "metadata": {
        "colab": {
          "base_uri": "https://localhost:8080/"
        },
        "id": "9TVzGsqlIUmy",
        "outputId": "9bc75611-1576-4e50-bcb7-23036a187bd6"
      },
      "execution_count": null,
      "outputs": [
        {
          "output_type": "stream",
          "name": "stdout",
          "text": [
            "[2.         2.66666667 3.33333333 4.         4.66666667 5.33333333\n",
            " 6.        ]\n",
            "[[0.22568394 0.6299442  0.13251652]\n",
            " [0.29198521 0.46893936 0.29682474]\n",
            " [0.66158661 0.62714303 0.48347218]]\n",
            "[[ 3.1415927e+00  0.0000000e+00  0.0000000e+00]\n",
            " [ 0.0000000e+00  3.3292057e-34  0.0000000e+00]\n",
            " [-9.6386316e-08  4.3626625e-41  1.3228258e-42]]\n",
            "[[ 3.1415927e+00  0.0000000e+00  0.0000000e+00]\n",
            " [ 0.0000000e+00  3.3292057e-34  0.0000000e+00]\n",
            " [-9.6386316e-08  4.3626625e-41  1.3228258e-42]]\n"
          ]
        }
      ]
    }
  ]
}